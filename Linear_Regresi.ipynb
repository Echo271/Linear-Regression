{
  "nbformat": 4,
  "nbformat_minor": 0,
  "metadata": {
    "colab": {
      "name": "Linear Regresi.ipynb",
      "provenance": [],
      "collapsed_sections": [],
      "authorship_tag": "ABX9TyMJroGvPssvpQczBtz47FUR",
      "include_colab_link": true
    },
    "kernelspec": {
      "name": "python3",
      "display_name": "Python 3"
    },
    "language_info": {
      "name": "python"
    }
  },
  "cells": [
    {
      "cell_type": "markdown",
      "metadata": {
        "id": "view-in-github",
        "colab_type": "text"
      },
      "source": [
        "<a href=\"https://colab.research.google.com/github/Echo271/Linear-Regression/blob/main/Linear_Regresi.ipynb\" target=\"_parent\"><img src=\"https://colab.research.google.com/assets/colab-badge.svg\" alt=\"Open In Colab\"/></a>"
      ]
    },
    {
      "cell_type": "markdown",
      "metadata": {
        "id": "8UybjaF6Essm"
      },
      "source": [
        "Nama :  Eko Rahmat Darmawan\n",
        "\n",
        "NIM  : 1915016028\n",
        "\n",
        "Linear Regresi - Kecerdasan Buatan"
      ]
    },
    {
      "cell_type": "markdown",
      "metadata": {
        "id": "z3dvVe7BFp_T"
      },
      "source": [
        "Import Library yang dibutuhkan\n",
        "\n",
        "- Pandas\n",
        "-Numpy\n",
        "-Matplotlib\n",
        "-linear_model"
      ]
    },
    {
      "cell_type": "code",
      "metadata": {
        "id": "CNL5y65BOF8c"
      },
      "source": [
        "import pandas as pd \n",
        "import numpy as np\n",
        "import matplotlib.pyplot as plt\n",
        "from sklearn import linear_model"
      ],
      "execution_count": 35,
      "outputs": []
    },
    {
      "cell_type": "markdown",
      "metadata": {
        "id": "Cy24E3fVFnzC"
      },
      "source": [
        "Import Dataset"
      ]
    },
    {
      "cell_type": "code",
      "metadata": {
        "colab": {
          "base_uri": "https://localhost:8080/",
          "height": 203
        },
        "id": "YshJNGtI9awu",
        "outputId": "83fc6331-c476-49cf-8283-509a46f7d60a"
      },
      "source": [
        "data = pd.read_csv('/content/Salary.csv')\n",
        "data.head()"
      ],
      "execution_count": 36,
      "outputs": [
        {
          "output_type": "execute_result",
          "data": {
            "text/html": [
              "<div>\n",
              "<style scoped>\n",
              "    .dataframe tbody tr th:only-of-type {\n",
              "        vertical-align: middle;\n",
              "    }\n",
              "\n",
              "    .dataframe tbody tr th {\n",
              "        vertical-align: top;\n",
              "    }\n",
              "\n",
              "    .dataframe thead th {\n",
              "        text-align: right;\n",
              "    }\n",
              "</style>\n",
              "<table border=\"1\" class=\"dataframe\">\n",
              "  <thead>\n",
              "    <tr style=\"text-align: right;\">\n",
              "      <th></th>\n",
              "      <th>YearsExperience</th>\n",
              "      <th>Salary</th>\n",
              "    </tr>\n",
              "  </thead>\n",
              "  <tbody>\n",
              "    <tr>\n",
              "      <th>0</th>\n",
              "      <td>3.9</td>\n",
              "      <td>63218</td>\n",
              "    </tr>\n",
              "    <tr>\n",
              "      <th>1</th>\n",
              "      <td>4.5</td>\n",
              "      <td>61111</td>\n",
              "    </tr>\n",
              "    <tr>\n",
              "      <th>2</th>\n",
              "      <td>2.0</td>\n",
              "      <td>43525</td>\n",
              "    </tr>\n",
              "    <tr>\n",
              "      <th>3</th>\n",
              "      <td>6.8</td>\n",
              "      <td>91738</td>\n",
              "    </tr>\n",
              "    <tr>\n",
              "      <th>4</th>\n",
              "      <td>8.7</td>\n",
              "      <td>109431</td>\n",
              "    </tr>\n",
              "  </tbody>\n",
              "</table>\n",
              "</div>"
            ],
            "text/plain": [
              "   YearsExperience  Salary\n",
              "0              3.9   63218\n",
              "1              4.5   61111\n",
              "2              2.0   43525\n",
              "3              6.8   91738\n",
              "4              8.7  109431"
            ]
          },
          "metadata": {},
          "execution_count": 36
        }
      ]
    },
    {
      "cell_type": "markdown",
      "metadata": {
        "id": "Sf00Bk25GKAH"
      },
      "source": [
        "Mengubah nama kolom dari YearsExperience dan Salary menjadi pengalaman dan gaji"
      ]
    },
    {
      "cell_type": "code",
      "metadata": {
        "id": "bwWDWDrd9xsX"
      },
      "source": [
        "data = data[['YearsExperience','Salary']]\n",
        "data.columns = ['pengalaman','gaji']"
      ],
      "execution_count": 37,
      "outputs": []
    },
    {
      "cell_type": "markdown",
      "metadata": {
        "id": "cw1b9rxuGY0U"
      },
      "source": [
        "Buat Plot Scatter"
      ]
    },
    {
      "cell_type": "code",
      "metadata": {
        "colab": {
          "base_uri": "https://localhost:8080/",
          "height": 282
        },
        "id": "kJTPCzOK-Stn",
        "outputId": "cd3c0361-a57f-4e33-e20d-b508b0ae2773"
      },
      "source": [
        "%matplotlib inline\n",
        "plt.scatter(data.pengalaman, data.gaji) "
      ],
      "execution_count": 38,
      "outputs": [
        {
          "output_type": "execute_result",
          "data": {
            "text/plain": [
              "<matplotlib.collections.PathCollection at 0x7f755b43bed0>"
            ]
          },
          "metadata": {},
          "execution_count": 38
        },
        {
          "output_type": "display_data",
          "data": {
            "image/png": "[encoded data removed]",
            "text/plain": [
              "<Figure size 432x288 with 1 Axes>"
            ]
          },
          "metadata": {
            "needs_background": "light"
          }
        }
      ]
    },
    {
      "cell_type": "markdown",
      "metadata": {
        "id": "wj8Hl1wLGejv"
      },
      "source": [
        "Membuat model linear regresi dengan menjadikan kolom berbentuk matriks array"
      ]
    },
    {
      "cell_type": "code",
      "metadata": {
        "colab": {
          "base_uri": "https://localhost:8080/"
        },
        "id": "Z7OiNmNW_S-W",
        "outputId": "7a085bf7-905e-4d93-a7b3-cfacd57950cf"
      },
      "source": [
        "reg = linear_model.LinearRegression()\n",
        "reg.fit(data.pengalaman.values.reshape(-1,1), data.gaji.values.reshape(-1,1))"
      ],
      "execution_count": 39,
      "outputs": [
        {
          "output_type": "execute_result",
          "data": {
            "text/plain": [
              "LinearRegression()"
            ]
          },
          "metadata": {},
          "execution_count": 39
        }
      ]
    },
    {
      "cell_type": "markdown",
      "metadata": {
        "id": "9bPVeh8gGq4t"
      },
      "source": [
        "Mengecek prediksi salah satu nilai array x "
      ]
    },
    {
      "cell_type": "code",
      "metadata": {
        "colab": {
          "base_uri": "https://localhost:8080/"
        },
        "id": "i7eBNWdn_0yS",
        "outputId": "bc001ffe-2939-41d0-f6f5-f8e19cde416c"
      },
      "source": [
        "reg.predict([[4]])"
      ],
      "execution_count": 40,
      "outputs": [
        {
          "output_type": "execute_result",
          "data": {
            "text/plain": [
              "array([[64004.48351748]])"
            ]
          },
          "metadata": {},
          "execution_count": 40
        }
      ]
    },
    {
      "cell_type": "markdown",
      "metadata": {
        "id": "8WJmxPv5HaSH"
      },
      "source": [
        "Melihat nilai koefisien"
      ]
    },
    {
      "cell_type": "code",
      "metadata": {
        "colab": {
          "base_uri": "https://localhost:8080/"
        },
        "id": "XZg2oZwABe5Z",
        "outputId": "fa125744-eafd-4c23-e73a-8b4071d21e06"
      },
      "source": [
        "reg.coef_"
      ],
      "execution_count": 41,
      "outputs": [
        {
          "output_type": "execute_result",
          "data": {
            "text/plain": [
              "array([[8647.54883033]])"
            ]
          },
          "metadata": {},
          "execution_count": 41
        }
      ]
    },
    {
      "cell_type": "markdown",
      "metadata": {
        "id": "wHyiJ_OuHe55"
      },
      "source": [
        "Melihat nilai y intercept"
      ]
    },
    {
      "cell_type": "code",
      "metadata": {
        "colab": {
          "base_uri": "https://localhost:8080/"
        },
        "id": "r3QkGD9TBlaR",
        "outputId": "c00371ed-3808-49aa-c73a-daa5e993e76c"
      },
      "source": [
        "reg.intercept_"
      ],
      "execution_count": 42,
      "outputs": [
        {
          "output_type": "execute_result",
          "data": {
            "text/plain": [
              "array([29414.28819618])"
            ]
          },
          "metadata": {},
          "execution_count": 42
        }
      ]
    },
    {
      "cell_type": "markdown",
      "metadata": {
        "id": "pcyECu4hHjyP"
      },
      "source": [
        "Membuat garis predict atau garis persamaan linear menggunakan reg.predict"
      ]
    },
    {
      "cell_type": "code",
      "metadata": {
        "colab": {
          "base_uri": "https://localhost:8080/",
          "height": 335
        },
        "id": "7Mre-_TLD-t4",
        "outputId": "3ec58958-820c-47ab-a948-2dde820a7b41"
      },
      "source": [
        "%matplotlib inline\n",
        "plt.scatter(data.pengalaman, data.gaji)\n",
        "plt.plot(data.pengalaman, reg.predict(data[['pengalaman']]), color='red')"
      ],
      "execution_count": 43,
      "outputs": [
        {
          "output_type": "stream",
          "name": "stderr",
          "text": [
            "/usr/local/lib/python3.7/dist-packages/sklearn/base.py:439: UserWarning: X has feature names, but LinearRegression was fitted without feature names\n",
            "  f\"X has feature names, but {self.__class__.__name__} was fitted without\"\n"
          ]
        },
        {
          "output_type": "execute_result",
          "data": {
            "text/plain": [
              "[<matplotlib.lines.Line2D at 0x7f755b56b7d0>]"
            ]
          },
          "metadata": {},
          "execution_count": 43
        },
        {
          "output_type": "display_data",
          "data": {
            "image/png": "[encoded data removed]",
            "text/plain": [
              "<Figure size 432x288 with 1 Axes>"
            ]
          },
          "metadata": {
            "needs_background": "light"
          }
        }
      ]
    }
  ]
}