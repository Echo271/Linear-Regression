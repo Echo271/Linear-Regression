{
  "nbformat": 4,
  "nbformat_minor": 0,
  "metadata": {
    "colab": {
      "name": "Linear Regresi.ipynb",
      "provenance": [],
      "collapsed_sections": [],
      "authorship_tag": "ABX9TyMJroGvPssvpQczBtz47FUR",
      "include_colab_link": true
    },
    "kernelspec": {
      "name": "python3",
      "display_name": "Python 3"
    },
    "language_info": {
      "name": "python"
    }
  },
  "cells": [
    {
      "cell_type": "markdown",
      "metadata": {
        "id": "view-in-github",
        "colab_type": "text"
      },
      "source": [
        "<a href=\"https://colab.research.google.com/github/Echo271/Linear-Regression/blob/main/Linear_Regresi.ipynb\" target=\"_parent\"><img src=\"https://colab.research.google.com/assets/colab-badge.svg\" alt=\"Open In Colab\"/></a>"
      ]
    },
    {
      "cell_type": "markdown",
      "metadata": {
        "id": "8UybjaF6Essm"
      },
      "source": [
        "Nama :  Eko Rahmat Darmawan\n",
        "\n",
        "NIM  : 1915016028\n",
        "\n",
        "Linear Regresi - Kecerdasan Buatan"
      ]
    },
    {
      "cell_type": "markdown",
      "metadata": {
        "id": "z3dvVe7BFp_T"
      },
      "source": [
        "Import Library yang dibutuhkan\n",
        "\n",
        "- Pandas\n",
        "-Numpy\n",
        "-Matplotlib\n",
        "-linear_model"
      ]
    },
    {
      "cell_type": "code",
      "metadata": {
        "id": "CNL5y65BOF8c"
      },
      "source": [
        "import pandas as pd \n",
        "import numpy as np\n",
        "import matplotlib.pyplot as plt\n",
        "from sklearn import linear_model"
      ],
      "execution_count": 1,
      "outputs": []
    },
    {
      "cell_type": "markdown",
      "metadata": {
        "id": "Cy24E3fVFnzC"
      },
      "source": [
        "Import Dataset"
      ]
    },
    {
      "cell_type": "code",
      "metadata": {
        "colab": {
          "base_uri": "https://localhost:8080/",
          "height": 203
        },
        "id": "YshJNGtI9awu",
        "outputId": "64fbc609-b57a-48ca-d1c3-e9d5d79864b0"
      },
      "source": [
        "data = pd.read_csv('/content/Salary.csv')\n",
        "data.head()"
      ],
      "execution_count": 3,
      "outputs": [
        {
          "output_type": "execute_result",
          "data": {
            "text/html": [
              "<div>\n",
              "<style scoped>\n",
              "    .dataframe tbody tr th:only-of-type {\n",
              "        vertical-align: middle;\n",
              "    }\n",
              "\n",
              "    .dataframe tbody tr th {\n",
              "        vertical-align: top;\n",
              "    }\n",
              "\n",
              "    .dataframe thead th {\n",
              "        text-align: right;\n",
              "    }\n",
              "</style>\n",
              "<table border=\"1\" class=\"dataframe\">\n",
              "  <thead>\n",
              "    <tr style=\"text-align: right;\">\n",
              "      <th></th>\n",
              "      <th>YearsExperience</th>\n",
              "      <th>Salary</th>\n",
              "    </tr>\n",
              "  </thead>\n",
              "  <tbody>\n",
              "    <tr>\n",
              "      <th>0</th>\n",
              "      <td>1.1</td>\n",
              "      <td>39343</td>\n",
              "    </tr>\n",
              "    <tr>\n",
              "      <th>1</th>\n",
              "      <td>1.3</td>\n",
              "      <td>46205</td>\n",
              "    </tr>\n",
              "    <tr>\n",
              "      <th>2</th>\n",
              "      <td>1.5</td>\n",
              "      <td>37731</td>\n",
              "    </tr>\n",
              "    <tr>\n",
              "      <th>3</th>\n",
              "      <td>2.0</td>\n",
              "      <td>43525</td>\n",
              "    </tr>\n",
              "    <tr>\n",
              "      <th>4</th>\n",
              "      <td>2.2</td>\n",
              "      <td>39891</td>\n",
              "    </tr>\n",
              "  </tbody>\n",
              "</table>\n",
              "</div>"
            ],
            "text/plain": [
              "   YearsExperience  Salary\n",
              "0              1.1   39343\n",
              "1              1.3   46205\n",
              "2              1.5   37731\n",
              "3              2.0   43525\n",
              "4              2.2   39891"
            ]
          },
          "metadata": {},
          "execution_count": 3
        }
      ]
    },
    {
      "cell_type": "markdown",
      "metadata": {
        "id": "Sf00Bk25GKAH"
      },
      "source": [
        "Mengubah nama kolom dari YearsExperience dan Salary menjadi pengalaman dan gaji"
      ]
    },
    {
      "cell_type": "code",
      "metadata": {
        "id": "bwWDWDrd9xsX"
      },
      "source": [
        "data = data[['YearsExperience','Salary']]\n",
        "data.columns = ['pengalaman','gaji']"
      ],
      "execution_count": null,
      "outputs": []
    },
    {
      "cell_type": "markdown",
      "metadata": {
        "id": "cw1b9rxuGY0U"
      },
      "source": [
        "Buat Plot Scatter"
      ]
    },
    {
      "cell_type": "code",
      "metadata": {
        "colab": {
          "base_uri": "https://localhost:8080/",
          "height": 282
        },
        "id": "kJTPCzOK-Stn",
        "outputId": "076bb3a6-913c-418f-f90c-89b3ce7a966e"
      },
      "source": [
        "%matplotlib inline\n",
        "plt.scatter(data.pengalaman, data.gaji) "
      ],
      "execution_count": 5,
      "outputs": [
        {
          "output_type": "execute_result",
          "data": {
            "text/plain": [
              "<matplotlib.collections.PathCollection at 0x7f755bce9390>"
            ]
          },
          "metadata": {},
          "execution_count": 5
        },
        {
          "output_type": "display_data",
          "data": {
            "image/png": "[encoded data removed]",
            "text/plain": [
              "<Figure size 432x288 with 1 Axes>"
            ]
          },
          "metadata": {
            "needs_background": "light"
          }
        }
      ]
    },
    {
      "cell_type": "markdown",
      "metadata": {
        "id": "wj8Hl1wLGejv"
      },
      "source": [
        "Membuat model linear regresi dengan menjadikan kolom berbentuk matriks array"
      ]
    },
    {
      "cell_type": "code",
      "metadata": {
        "colab": {
          "base_uri": "https://localhost:8080/"
        },
        "id": "Z7OiNmNW_S-W",
        "outputId": "dfe2e917-145e-407d-ead1-47bba9ec0e3e"
      },
      "source": [
        "reg = linear_model.LinearRegression()\n",
        "reg.fit(data.pengalaman.values.reshape(-1,1), data.gaji.values.reshape(-1,1))"
      ],
      "execution_count": 28,
      "outputs": [
        {
          "output_type": "execute_result",
          "data": {
            "text/plain": [
              "LinearRegression()"
            ]
          },
          "metadata": {},
          "execution_count": 28
        }
      ]
    },
    {
      "cell_type": "markdown",
      "metadata": {
        "id": "9bPVeh8gGq4t"
      },
      "source": [
        "Mengecek prediksi salah satu nilai array x "
      ]
    },
    {
      "cell_type": "code",
      "metadata": {
        "colab": {
          "base_uri": "https://localhost:8080/"
        },
        "id": "i7eBNWdn_0yS",
        "outputId": "06af472d-58db-4e72-a722-a079bb7d3c7f"
      },
      "source": [
        "reg.predict([[4]])"
      ],
      "execution_count": 31,
      "outputs": [
        {
          "output_type": "execute_result",
          "data": {
            "text/plain": [
              "array([[63787.29038278]])"
            ]
          },
          "metadata": {},
          "execution_count": 31
        }
      ]
    },
    {
      "cell_type": "markdown",
      "metadata": {
        "id": "8WJmxPv5HaSH"
      },
      "source": [
        "Melihat nilai koefisien"
      ]
    },
    {
      "cell_type": "code",
      "metadata": {
        "colab": {
          "base_uri": "https://localhost:8080/"
        },
        "id": "XZg2oZwABe5Z",
        "outputId": "dcc76095-f5f4-4c6f-a072-1b362594aae5"
      },
      "source": [
        "reg.coef_"
      ],
      "execution_count": 18,
      "outputs": [
        {
          "output_type": "execute_result",
          "data": {
            "text/plain": [
              "array([[8731.94104706]])"
            ]
          },
          "metadata": {},
          "execution_count": 18
        }
      ]
    },
    {
      "cell_type": "markdown",
      "metadata": {
        "id": "wHyiJ_OuHe55"
      },
      "source": [
        "Melihat nilai y intercept"
      ]
    },
    {
      "cell_type": "code",
      "metadata": {
        "colab": {
          "base_uri": "https://localhost:8080/"
        },
        "id": "r3QkGD9TBlaR",
        "outputId": "37acf3eb-c0a3-4817-9ec0-a73587e014b6"
      },
      "source": [
        "reg.intercept_"
      ],
      "execution_count": 19,
      "outputs": [
        {
          "output_type": "execute_result",
          "data": {
            "text/plain": [
              "array([28859.52619453])"
            ]
          },
          "metadata": {},
          "execution_count": 19
        }
      ]
    },
    {
      "cell_type": "markdown",
      "metadata": {
        "id": "pcyECu4hHjyP"
      },
      "source": [
        "Membuat garis predict atau garis persamaan linear menggunakan reg.predict"
      ]
    },
    {
      "cell_type": "code",
      "metadata": {
        "colab": {
          "base_uri": "https://localhost:8080/",
          "height": 335
        },
        "id": "7Mre-_TLD-t4",
        "outputId": "44b58936-55e2-436d-8e25-df767421b9a0"
      },
      "source": [
        "%matplotlib inline\n",
        "plt.scatter(data.pengalaman, data.gaji)\n",
        "plt.plot(data.pengalaman, reg.predict(data[['pengalaman']]), color='red')"
      ],
      "execution_count": 34,
      "outputs": [
        {
          "output_type": "stream",
          "name": "stderr",
          "text": [
            "/usr/local/lib/python3.7/dist-packages/sklearn/base.py:439: UserWarning: X has feature names, but LinearRegression was fitted without feature names\n",
            "  f\"X has feature names, but {self.__class__.__name__} was fitted without\"\n"
          ]
        },
        {
          "output_type": "execute_result",
          "data": {
            "text/plain": [
              "[<matplotlib.lines.Line2D at 0x7f755b3d3690>]"
            ]
          },
          "metadata": {},
          "execution_count": 34
        },
        {
          "output_type": "display_data",
          "data": {
            "image/png": "[encoded data removed]",
            "text/plain": [
              "<Figure size 432x288 with 1 Axes>"
            ]
          },
          "metadata": {
            "needs_background": "light"
          }
        }
      ]
    }
  ]
}